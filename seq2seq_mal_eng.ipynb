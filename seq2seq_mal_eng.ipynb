{
  "nbformat": 4,
  "nbformat_minor": 0,
  "metadata": {
    "colab": {
      "name": "seq2seq_mal-eng.ipynb",
      "provenance": [],
      "collapsed_sections": [],
      "mount_file_id": "19CCqdc5XZvuEdc4_aW9G8AZf7WrTRkxB",
      "authorship_tag": "ABX9TyPVUfOKixPg/DIwtXkbmGOF",
      "include_colab_link": true
    },
    "kernelspec": {
      "name": "python3",
      "display_name": "Python 3"
    },
    "language_info": {
      "name": "python"
    },
    "accelerator": "GPU"
  },
  "cells": [
    {
      "cell_type": "markdown",
      "metadata": {
        "id": "view-in-github",
        "colab_type": "text"
      },
      "source": [
        "<a href=\"https://colab.research.google.com/github/ashinkrishnan/Seq2Seq-with-Neural-Network-English-French/blob/main/seq2seq_mal_eng.ipynb\" target=\"_parent\"><img src=\"https://colab.research.google.com/assets/colab-badge.svg\" alt=\"Open In Colab\"/></a>"
      ]
    },
    {
      "cell_type": "code",
      "metadata": {
        "id": "ljT5BBIP_ow7"
      },
      "source": [
        "import numpy as np\n",
        "import tensorflow as tf\n",
        "from tensorflow import keras\n"
      ],
      "execution_count": 53,
      "outputs": []
    },
    {
      "cell_type": "code",
      "metadata": {
        "id": "Q7aaKYZhA-5F"
      },
      "source": [
        "batch_size = 64  # Batch size for training.\n",
        "epochs = 100  # Number of epochs to train for.\n",
        "latent_dim = 256  # Latent dimensionality of the encoding space.\n",
        "num_samples = 600  # Number of samples to train on.\n",
        "# Path to the data txt file on disk.\n",
        "data_path = \"/content/drive/MyDrive/mal.txt\"\n"
      ],
      "execution_count": 54,
      "outputs": []
    },
    {
      "cell_type": "code",
      "metadata": {
        "id": "SwsTQoKWBI0i"
      },
      "source": [
        "# Vectorize the data.\n",
        "input_texts = []\n",
        "target_texts = []\n",
        "input_characters = set()\n",
        "target_characters = set()\n",
        "with open(data_path, \"r\", encoding=\"utf-8\") as f:\n",
        "    lines = f.read().split(\"\\n\")\n",
        "for line in lines[: min(num_samples, len(lines) - 1)]:\n",
        "    input_text, target_text, _ = line.split(\"\\t\")\n",
        "    # We use \"tab\" as the \"start sequence\" character\n",
        "    # for the targets, and \"\\n\" as \"end sequence\" character.\n",
        "    target_text = \"\\t\" + target_text + \"\\n\"\n",
        "    input_texts.append(input_text)\n",
        "    target_texts.append(target_text)\n",
        "    for char in input_text:\n",
        "        if char not in input_characters:\n",
        "            input_characters.add(char)\n",
        "    for char in target_text:\n",
        "        if char not in target_characters:\n",
        "            target_characters.add(char)"
      ],
      "execution_count": 55,
      "outputs": []
    },
    {
      "cell_type": "code",
      "metadata": {
        "id": "L3ny19QfBPAh"
      },
      "source": [
        "input_characters = sorted(list(input_characters))\n",
        "target_characters = sorted(list(target_characters))\n",
        "num_encoder_tokens = len(input_characters)\n",
        "num_decoder_tokens = len(target_characters)\n",
        "max_encoder_seq_length = max([len(txt) for txt in input_texts])\n",
        "max_decoder_seq_length = max([len(txt) for txt in target_texts])"
      ],
      "execution_count": 56,
      "outputs": []
    },
    {
      "cell_type": "code",
      "metadata": {
        "colab": {
          "base_uri": "https://localhost:8080/"
        },
        "id": "Z5KOJmpfBRxJ",
        "outputId": "692e7d38-11b5-42f4-f264-4a76cf6c5208"
      },
      "source": [
        "input_texts[100],target_texts[100]"
      ],
      "execution_count": 57,
      "outputs": [
        {
          "output_type": "execute_result",
          "data": {
            "text/plain": [
              "('This dog is mine.', '\\tഇതെന്റെ നായയാണ്.\\n')"
            ]
          },
          "metadata": {
            "tags": []
          },
          "execution_count": 57
        }
      ]
    },
    {
      "cell_type": "code",
      "metadata": {
        "colab": {
          "base_uri": "https://localhost:8080/"
        },
        "id": "2Trcc0zqBUk5",
        "outputId": "c609c929-ebae-4d64-80ac-248bf4d6bbc2"
      },
      "source": [
        "print(\"Number of samples:\", len(input_texts))\n",
        "print(\"Number of unique input tokens:\", num_encoder_tokens)\n",
        "print(\"Number of unique output tokens:\", num_decoder_tokens)\n",
        "print(\"Max sequence length for inputs:\", max_encoder_seq_length)\n",
        "print(\"Max sequence length for outputs:\", max_decoder_seq_length)"
      ],
      "execution_count": 58,
      "outputs": [
        {
          "output_type": "stream",
          "text": [
            "Number of samples: 600\n",
            "Number of unique input tokens: 59\n",
            "Number of unique output tokens: 74\n",
            "Max sequence length for inputs: 66\n",
            "Max sequence length for outputs: 95\n"
          ],
          "name": "stdout"
        }
      ]
    },
    {
      "cell_type": "code",
      "metadata": {
        "id": "J4oscjd6B6yC"
      },
      "source": [
        "input_token_index = dict([(char, i) for i, char in enumerate(input_characters)])\n",
        "target_token_index = dict([(char, i) for i, char in enumerate(target_characters)])"
      ],
      "execution_count": 59,
      "outputs": []
    },
    {
      "cell_type": "code",
      "metadata": {
        "colab": {
          "base_uri": "https://localhost:8080/"
        },
        "id": "zYndYdg6CDeT",
        "outputId": "7b6b43fe-201a-4b95-ea86-fb7915eaf79c"
      },
      "source": [
        "input_token_index['A']"
      ],
      "execution_count": 60,
      "outputs": [
        {
          "output_type": "execute_result",
          "data": {
            "text/plain": [
              "11"
            ]
          },
          "metadata": {
            "tags": []
          },
          "execution_count": 60
        }
      ]
    },
    {
      "cell_type": "code",
      "metadata": {
        "colab": {
          "base_uri": "https://localhost:8080/"
        },
        "id": "Ja_nZgA7CGP0",
        "outputId": "fb44ef9f-dc31-42a9-f6a8-a5e919de65b7"
      },
      "source": [
        "target_token_index['ന']"
      ],
      "execution_count": 61,
      "outputs": [
        {
          "output_type": "execute_result",
          "data": {
            "text/plain": [
              "36"
            ]
          },
          "metadata": {
            "tags": []
          },
          "execution_count": 61
        }
      ]
    },
    {
      "cell_type": "code",
      "metadata": {
        "id": "QN56AEx-Cp5K"
      },
      "source": [
        "encoder_input_data = np.zeros(\n",
        "    (len(input_texts), max_encoder_seq_length, num_encoder_tokens), dtype=\"float32\"\n",
        ")\n",
        "decoder_input_data = np.zeros(\n",
        "    (len(input_texts), max_decoder_seq_length, num_decoder_tokens), dtype=\"float32\"\n",
        ")\n",
        "decoder_target_data = np.zeros(\n",
        "    (len(input_texts), max_decoder_seq_length, num_decoder_tokens), dtype=\"float32\"\n",
        ")"
      ],
      "execution_count": 62,
      "outputs": []
    },
    {
      "cell_type": "code",
      "metadata": {
        "id": "AJ2QRad6C1Iz"
      },
      "source": [
        "for i, (input_text, target_text) in enumerate(zip(input_texts, target_texts)):\n",
        "    for t, char in enumerate(input_text):\n",
        "        encoder_input_data[i, t, input_token_index[char]] = 1.0\n",
        "    encoder_input_data[i, t + 1 :, input_token_index[\" \"]] = 1.0\n",
        "    for t, char in enumerate(target_text):\n",
        "        # decoder_target_data is ahead of decoder_input_data by one timestep\n",
        "        decoder_input_data[i, t, target_token_index[char]] = 1.0\n",
        "        if t > 0:\n",
        "            # decoder_target_data will be ahead by one timestep\n",
        "            # and will not include the start character.\n",
        "            decoder_target_data[i, t - 1, target_token_index[char]] = 1.0\n",
        "    decoder_input_data[i, t + 1 :, target_token_index[\" \"]] = 1.0\n",
        "    decoder_target_data[i, t:, target_token_index[\" \"]] = 1.0"
      ],
      "execution_count": 63,
      "outputs": []
    },
    {
      "cell_type": "code",
      "metadata": {
        "id": "xF-5mWrxC35y"
      },
      "source": [
        "#Building the model\n",
        "# Define an input sequence and process it.\n",
        "encoder_inputs = keras.Input(shape=(None, num_encoder_tokens))\n",
        "encoder = keras.layers.LSTM(latent_dim, return_state=True)\n",
        "encoder_outputs, state_h, state_c = encoder(encoder_inputs)\n",
        "\n",
        "# We discard `encoder_outputs` and only keep the states.\n",
        "encoder_states = [state_h, state_c]\n",
        "\n",
        "# Set up the decoder, using `encoder_states` as initial state.\n",
        "decoder_inputs = keras.Input(shape=(None, num_decoder_tokens))\n",
        "\n",
        "# We set up our decoder to return full output sequences,\n",
        "# and to return internal states as well. We don't use the\n",
        "# return states in the training model, but we will use them in inference.\n",
        "decoder_lstm = keras.layers.LSTM(latent_dim, return_sequences=True, return_state=True)\n",
        "decoder_outputs, _, _ = decoder_lstm(decoder_inputs, initial_state=encoder_states)\n",
        "decoder_dense = keras.layers.Dense(num_decoder_tokens, activation=\"softmax\")\n",
        "decoder_outputs = decoder_dense(decoder_outputs)\n",
        "\n",
        "# Define the model that will turn\n",
        "# `encoder_input_data` & `decoder_input_data` into `decoder_target_data`\n",
        "model = keras.Model([encoder_inputs, decoder_inputs], decoder_outputs)\n",
        "\n"
      ],
      "execution_count": 64,
      "outputs": []
    },
    {
      "cell_type": "code",
      "metadata": {
        "colab": {
          "base_uri": "https://localhost:8080/"
        },
        "id": "QIicYDaQC-4x",
        "outputId": "e4fa7609-385c-46c9-b8a9-716ede60804c"
      },
      "source": [
        "#Model training\n",
        "model.compile(\n",
        "    optimizer=\"adam\", loss=\"categorical_crossentropy\", metrics=[\"accuracy\"]\n",
        ")\n",
        "model.fit(\n",
        "    [encoder_input_data, decoder_input_data],\n",
        "    decoder_target_data,\n",
        "    batch_size=batch_size,\n",
        "    epochs=epochs,\n",
        "    validation_split=0.2,\n",
        ")\n",
        "# Save model\n",
        "model.save(\"s2s_mal\")\n"
      ],
      "execution_count": 65,
      "outputs": [
        {
          "output_type": "stream",
          "text": [
            "Epoch 1/100\n",
            "8/8 [==============================] - 4s 118ms/step - loss: 3.3463 - accuracy: 0.5887 - val_loss: 3.5268 - val_accuracy: 0.4890\n",
            "Epoch 2/100\n",
            "8/8 [==============================] - 0s 30ms/step - loss: 1.8682 - accuracy: 0.6785 - val_loss: 2.6197 - val_accuracy: 0.4939\n",
            "Epoch 3/100\n",
            "8/8 [==============================] - 0s 25ms/step - loss: 1.6079 - accuracy: 0.6889 - val_loss: 2.5120 - val_accuracy: 0.4898\n",
            "Epoch 4/100\n",
            "8/8 [==============================] - 0s 22ms/step - loss: 1.5172 - accuracy: 0.6873 - val_loss: 2.3640 - val_accuracy: 0.4898\n",
            "Epoch 5/100\n",
            "8/8 [==============================] - 0s 21ms/step - loss: 1.4212 - accuracy: 0.6873 - val_loss: 2.2249 - val_accuracy: 0.4898\n",
            "Epoch 6/100\n",
            "8/8 [==============================] - 0s 21ms/step - loss: 1.3500 - accuracy: 0.6867 - val_loss: 2.1284 - val_accuracy: 0.4892\n",
            "Epoch 7/100\n",
            "8/8 [==============================] - 0s 21ms/step - loss: 1.3337 - accuracy: 0.6862 - val_loss: 2.1292 - val_accuracy: 0.4890\n",
            "Epoch 8/100\n",
            "8/8 [==============================] - 0s 22ms/step - loss: 1.2875 - accuracy: 0.6862 - val_loss: 2.0308 - val_accuracy: 0.4892\n",
            "Epoch 9/100\n",
            "8/8 [==============================] - 0s 22ms/step - loss: 1.2617 - accuracy: 0.6862 - val_loss: 2.0235 - val_accuracy: 0.5129\n",
            "Epoch 10/100\n",
            "8/8 [==============================] - 0s 21ms/step - loss: 1.2791 - accuracy: 0.6926 - val_loss: 2.0064 - val_accuracy: 0.4927\n",
            "Epoch 11/100\n",
            "8/8 [==============================] - 0s 22ms/step - loss: 1.2331 - accuracy: 0.6882 - val_loss: 1.9701 - val_accuracy: 0.4987\n",
            "Epoch 12/100\n",
            "8/8 [==============================] - 0s 21ms/step - loss: 1.2113 - accuracy: 0.6924 - val_loss: 1.9482 - val_accuracy: 0.5011\n",
            "Epoch 13/100\n",
            "8/8 [==============================] - 0s 22ms/step - loss: 1.1958 - accuracy: 0.6958 - val_loss: 1.9612 - val_accuracy: 0.5025\n",
            "Epoch 14/100\n",
            "8/8 [==============================] - 0s 23ms/step - loss: 1.1820 - accuracy: 0.7004 - val_loss: 1.9343 - val_accuracy: 0.5038\n",
            "Epoch 15/100\n",
            "8/8 [==============================] - 0s 22ms/step - loss: 1.1698 - accuracy: 0.7007 - val_loss: 1.9246 - val_accuracy: 0.5059\n",
            "Epoch 16/100\n",
            "8/8 [==============================] - 0s 22ms/step - loss: 1.1601 - accuracy: 0.7030 - val_loss: 1.9314 - val_accuracy: 0.5054\n",
            "Epoch 17/100\n",
            "8/8 [==============================] - 0s 21ms/step - loss: 1.1509 - accuracy: 0.7072 - val_loss: 1.9072 - val_accuracy: 0.5140\n",
            "Epoch 18/100\n",
            "8/8 [==============================] - 0s 22ms/step - loss: 1.1425 - accuracy: 0.7107 - val_loss: 1.8995 - val_accuracy: 0.5194\n",
            "Epoch 19/100\n",
            "8/8 [==============================] - 0s 21ms/step - loss: 1.1352 - accuracy: 0.7111 - val_loss: 1.8949 - val_accuracy: 0.5210\n",
            "Epoch 20/100\n",
            "8/8 [==============================] - 0s 22ms/step - loss: 1.1270 - accuracy: 0.7127 - val_loss: 1.8840 - val_accuracy: 0.5277\n",
            "Epoch 21/100\n",
            "8/8 [==============================] - 0s 23ms/step - loss: 1.1194 - accuracy: 0.7147 - val_loss: 1.8734 - val_accuracy: 0.5311\n",
            "Epoch 22/100\n",
            "8/8 [==============================] - 0s 22ms/step - loss: 1.1125 - accuracy: 0.7163 - val_loss: 1.8693 - val_accuracy: 0.5343\n",
            "Epoch 23/100\n",
            "8/8 [==============================] - 0s 22ms/step - loss: 1.1049 - accuracy: 0.7200 - val_loss: 1.8554 - val_accuracy: 0.5346\n",
            "Epoch 24/100\n",
            "8/8 [==============================] - 0s 23ms/step - loss: 1.0980 - accuracy: 0.7205 - val_loss: 1.8482 - val_accuracy: 0.5378\n",
            "Epoch 25/100\n",
            "8/8 [==============================] - 0s 22ms/step - loss: 1.0904 - accuracy: 0.7237 - val_loss: 1.8343 - val_accuracy: 0.5404\n",
            "Epoch 26/100\n",
            "8/8 [==============================] - 0s 23ms/step - loss: 1.0831 - accuracy: 0.7254 - val_loss: 1.8267 - val_accuracy: 0.5439\n",
            "Epoch 27/100\n",
            "8/8 [==============================] - 0s 22ms/step - loss: 1.0753 - accuracy: 0.7278 - val_loss: 1.8200 - val_accuracy: 0.5459\n",
            "Epoch 28/100\n",
            "8/8 [==============================] - 0s 22ms/step - loss: 1.0665 - accuracy: 0.7315 - val_loss: 1.8158 - val_accuracy: 0.5455\n",
            "Epoch 29/100\n",
            "8/8 [==============================] - 0s 21ms/step - loss: 1.0576 - accuracy: 0.7323 - val_loss: 1.8044 - val_accuracy: 0.5489\n",
            "Epoch 30/100\n",
            "8/8 [==============================] - 0s 22ms/step - loss: 1.0497 - accuracy: 0.7339 - val_loss: 1.7934 - val_accuracy: 0.5534\n",
            "Epoch 31/100\n",
            "8/8 [==============================] - 0s 21ms/step - loss: 1.0399 - accuracy: 0.7396 - val_loss: 1.7871 - val_accuracy: 0.5534\n",
            "Epoch 32/100\n",
            "8/8 [==============================] - 0s 23ms/step - loss: 1.0291 - accuracy: 0.7430 - val_loss: 1.7808 - val_accuracy: 0.5609\n",
            "Epoch 33/100\n",
            "8/8 [==============================] - 0s 22ms/step - loss: 1.0184 - accuracy: 0.7460 - val_loss: 1.7644 - val_accuracy: 0.5668\n",
            "Epoch 34/100\n",
            "8/8 [==============================] - 0s 22ms/step - loss: 1.0077 - accuracy: 0.7497 - val_loss: 1.7539 - val_accuracy: 0.5661\n",
            "Epoch 35/100\n",
            "8/8 [==============================] - 0s 23ms/step - loss: 0.9983 - accuracy: 0.7530 - val_loss: 1.7395 - val_accuracy: 0.5719\n",
            "Epoch 36/100\n",
            "8/8 [==============================] - 0s 22ms/step - loss: 0.9866 - accuracy: 0.7559 - val_loss: 1.7191 - val_accuracy: 0.5831\n",
            "Epoch 37/100\n",
            "8/8 [==============================] - 0s 22ms/step - loss: 0.9762 - accuracy: 0.7595 - val_loss: 1.7021 - val_accuracy: 0.5831\n",
            "Epoch 38/100\n",
            "8/8 [==============================] - 0s 22ms/step - loss: 0.9640 - accuracy: 0.7635 - val_loss: 1.6969 - val_accuracy: 0.5868\n",
            "Epoch 39/100\n",
            "8/8 [==============================] - 0s 22ms/step - loss: 0.9527 - accuracy: 0.7633 - val_loss: 1.6789 - val_accuracy: 0.5888\n",
            "Epoch 40/100\n",
            "8/8 [==============================] - 0s 22ms/step - loss: 0.9410 - accuracy: 0.7661 - val_loss: 1.6601 - val_accuracy: 0.5929\n",
            "Epoch 41/100\n",
            "8/8 [==============================] - 0s 22ms/step - loss: 0.9308 - accuracy: 0.7668 - val_loss: 1.6736 - val_accuracy: 0.5880\n",
            "Epoch 42/100\n",
            "8/8 [==============================] - 0s 22ms/step - loss: 0.9230 - accuracy: 0.7675 - val_loss: 1.6387 - val_accuracy: 0.5926\n",
            "Epoch 43/100\n",
            "8/8 [==============================] - 0s 22ms/step - loss: 0.9116 - accuracy: 0.7685 - val_loss: 1.6382 - val_accuracy: 0.5911\n",
            "Epoch 44/100\n",
            "8/8 [==============================] - 0s 23ms/step - loss: 0.9034 - accuracy: 0.7684 - val_loss: 1.6195 - val_accuracy: 0.5958\n",
            "Epoch 45/100\n",
            "8/8 [==============================] - 0s 22ms/step - loss: 0.8939 - accuracy: 0.7705 - val_loss: 1.6074 - val_accuracy: 0.5996\n",
            "Epoch 46/100\n",
            "8/8 [==============================] - 0s 22ms/step - loss: 0.8839 - accuracy: 0.7728 - val_loss: 1.6016 - val_accuracy: 0.6011\n",
            "Epoch 47/100\n",
            "8/8 [==============================] - 0s 22ms/step - loss: 0.8755 - accuracy: 0.7739 - val_loss: 1.5818 - val_accuracy: 0.6020\n",
            "Epoch 48/100\n",
            "8/8 [==============================] - 0s 23ms/step - loss: 0.8661 - accuracy: 0.7756 - val_loss: 1.5638 - val_accuracy: 0.6063\n",
            "Epoch 49/100\n",
            "8/8 [==============================] - 0s 23ms/step - loss: 0.8584 - accuracy: 0.7764 - val_loss: 1.5583 - val_accuracy: 0.6110\n",
            "Epoch 50/100\n",
            "8/8 [==============================] - 0s 22ms/step - loss: 0.8492 - accuracy: 0.7795 - val_loss: 1.5598 - val_accuracy: 0.6043\n",
            "Epoch 51/100\n",
            "8/8 [==============================] - 0s 22ms/step - loss: 0.8423 - accuracy: 0.7796 - val_loss: 1.5486 - val_accuracy: 0.6059\n",
            "Epoch 52/100\n",
            "8/8 [==============================] - 0s 23ms/step - loss: 0.8332 - accuracy: 0.7804 - val_loss: 1.5205 - val_accuracy: 0.6161\n",
            "Epoch 53/100\n",
            "8/8 [==============================] - 0s 22ms/step - loss: 0.8261 - accuracy: 0.7842 - val_loss: 1.5097 - val_accuracy: 0.6173\n",
            "Epoch 54/100\n",
            "8/8 [==============================] - 0s 23ms/step - loss: 0.8192 - accuracy: 0.7845 - val_loss: 1.5243 - val_accuracy: 0.6145\n",
            "Epoch 55/100\n",
            "8/8 [==============================] - 0s 23ms/step - loss: 0.8104 - accuracy: 0.7870 - val_loss: 1.4877 - val_accuracy: 0.6216\n",
            "Epoch 56/100\n",
            "8/8 [==============================] - 0s 22ms/step - loss: 0.8030 - accuracy: 0.7889 - val_loss: 1.4811 - val_accuracy: 0.6219\n",
            "Epoch 57/100\n",
            "8/8 [==============================] - 0s 22ms/step - loss: 0.7945 - accuracy: 0.7909 - val_loss: 1.4872 - val_accuracy: 0.6194\n",
            "Epoch 58/100\n",
            "8/8 [==============================] - 0s 23ms/step - loss: 0.7896 - accuracy: 0.7920 - val_loss: 1.4832 - val_accuracy: 0.6179\n",
            "Epoch 59/100\n",
            "8/8 [==============================] - 0s 23ms/step - loss: 0.7834 - accuracy: 0.7930 - val_loss: 1.4629 - val_accuracy: 0.6245\n",
            "Epoch 60/100\n",
            "8/8 [==============================] - 0s 22ms/step - loss: 0.7762 - accuracy: 0.7959 - val_loss: 1.4524 - val_accuracy: 0.6267\n",
            "Epoch 61/100\n",
            "8/8 [==============================] - 0s 23ms/step - loss: 0.7691 - accuracy: 0.7997 - val_loss: 1.4536 - val_accuracy: 0.6293\n",
            "Epoch 62/100\n",
            "8/8 [==============================] - 0s 22ms/step - loss: 0.7622 - accuracy: 0.7996 - val_loss: 1.4461 - val_accuracy: 0.6304\n",
            "Epoch 63/100\n",
            "8/8 [==============================] - 0s 22ms/step - loss: 0.7561 - accuracy: 0.8033 - val_loss: 1.4345 - val_accuracy: 0.6325\n",
            "Epoch 64/100\n",
            "8/8 [==============================] - 0s 22ms/step - loss: 0.7512 - accuracy: 0.8031 - val_loss: 1.4272 - val_accuracy: 0.6327\n",
            "Epoch 65/100\n",
            "8/8 [==============================] - 0s 22ms/step - loss: 0.7466 - accuracy: 0.8045 - val_loss: 1.4380 - val_accuracy: 0.6327\n",
            "Epoch 66/100\n",
            "8/8 [==============================] - 0s 23ms/step - loss: 0.7424 - accuracy: 0.8052 - val_loss: 1.4252 - val_accuracy: 0.6361\n",
            "Epoch 67/100\n",
            "8/8 [==============================] - 0s 22ms/step - loss: 0.7372 - accuracy: 0.8055 - val_loss: 1.4166 - val_accuracy: 0.6388\n",
            "Epoch 68/100\n",
            "8/8 [==============================] - 0s 22ms/step - loss: 0.7303 - accuracy: 0.8083 - val_loss: 1.4117 - val_accuracy: 0.6369\n",
            "Epoch 69/100\n",
            "8/8 [==============================] - 0s 22ms/step - loss: 0.7236 - accuracy: 0.8099 - val_loss: 1.4283 - val_accuracy: 0.6377\n",
            "Epoch 70/100\n",
            "8/8 [==============================] - 0s 22ms/step - loss: 0.7240 - accuracy: 0.8094 - val_loss: 1.4162 - val_accuracy: 0.6406\n",
            "Epoch 71/100\n",
            "8/8 [==============================] - 0s 22ms/step - loss: 0.7184 - accuracy: 0.8118 - val_loss: 1.3919 - val_accuracy: 0.6418\n",
            "Epoch 72/100\n",
            "8/8 [==============================] - 0s 22ms/step - loss: 0.7114 - accuracy: 0.8126 - val_loss: 1.3914 - val_accuracy: 0.6403\n",
            "Epoch 73/100\n",
            "8/8 [==============================] - 0s 22ms/step - loss: 0.7076 - accuracy: 0.8142 - val_loss: 1.3822 - val_accuracy: 0.6444\n",
            "Epoch 74/100\n",
            "8/8 [==============================] - 0s 22ms/step - loss: 0.7039 - accuracy: 0.8141 - val_loss: 1.3925 - val_accuracy: 0.6416\n",
            "Epoch 75/100\n",
            "8/8 [==============================] - 0s 22ms/step - loss: 0.7001 - accuracy: 0.8166 - val_loss: 1.3874 - val_accuracy: 0.6451\n",
            "Epoch 76/100\n",
            "8/8 [==============================] - 0s 23ms/step - loss: 0.6967 - accuracy: 0.8156 - val_loss: 1.3832 - val_accuracy: 0.6445\n",
            "Epoch 77/100\n",
            "8/8 [==============================] - 0s 22ms/step - loss: 0.6921 - accuracy: 0.8183 - val_loss: 1.3739 - val_accuracy: 0.6479\n",
            "Epoch 78/100\n",
            "8/8 [==============================] - 0s 23ms/step - loss: 0.6869 - accuracy: 0.8177 - val_loss: 1.3671 - val_accuracy: 0.6493\n",
            "Epoch 79/100\n",
            "8/8 [==============================] - 0s 22ms/step - loss: 0.6829 - accuracy: 0.8191 - val_loss: 1.3736 - val_accuracy: 0.6496\n",
            "Epoch 80/100\n",
            "8/8 [==============================] - 0s 23ms/step - loss: 0.6792 - accuracy: 0.8205 - val_loss: 1.3635 - val_accuracy: 0.6460\n",
            "Epoch 81/100\n",
            "8/8 [==============================] - 0s 23ms/step - loss: 0.6750 - accuracy: 0.8210 - val_loss: 1.3672 - val_accuracy: 0.6474\n",
            "Epoch 82/100\n",
            "8/8 [==============================] - 0s 22ms/step - loss: 0.6734 - accuracy: 0.8225 - val_loss: 1.3676 - val_accuracy: 0.6472\n",
            "Epoch 83/100\n",
            "8/8 [==============================] - 0s 22ms/step - loss: 0.6677 - accuracy: 0.8220 - val_loss: 1.3540 - val_accuracy: 0.6514\n",
            "Epoch 84/100\n",
            "8/8 [==============================] - 0s 23ms/step - loss: 0.6659 - accuracy: 0.8226 - val_loss: 1.3708 - val_accuracy: 0.6485\n",
            "Epoch 85/100\n",
            "8/8 [==============================] - 0s 22ms/step - loss: 0.6624 - accuracy: 0.8241 - val_loss: 1.3474 - val_accuracy: 0.6530\n",
            "Epoch 86/100\n",
            "8/8 [==============================] - 0s 23ms/step - loss: 0.6575 - accuracy: 0.8247 - val_loss: 1.3408 - val_accuracy: 0.6557\n",
            "Epoch 87/100\n",
            "8/8 [==============================] - 0s 22ms/step - loss: 0.6540 - accuracy: 0.8258 - val_loss: 1.3452 - val_accuracy: 0.6549\n",
            "Epoch 88/100\n",
            "8/8 [==============================] - 0s 22ms/step - loss: 0.6525 - accuracy: 0.8257 - val_loss: 1.3601 - val_accuracy: 0.6514\n",
            "Epoch 89/100\n",
            "8/8 [==============================] - 0s 23ms/step - loss: 0.6497 - accuracy: 0.8267 - val_loss: 1.3459 - val_accuracy: 0.6532\n",
            "Epoch 90/100\n",
            "8/8 [==============================] - 0s 22ms/step - loss: 0.6447 - accuracy: 0.8279 - val_loss: 1.3379 - val_accuracy: 0.6560\n",
            "Epoch 91/100\n",
            "8/8 [==============================] - 0s 23ms/step - loss: 0.6435 - accuracy: 0.8291 - val_loss: 1.3235 - val_accuracy: 0.6533\n",
            "Epoch 92/100\n",
            "8/8 [==============================] - 0s 23ms/step - loss: 0.6464 - accuracy: 0.8279 - val_loss: 1.3514 - val_accuracy: 0.6505\n",
            "Epoch 93/100\n",
            "8/8 [==============================] - 0s 23ms/step - loss: 0.6425 - accuracy: 0.8273 - val_loss: 1.3237 - val_accuracy: 0.6567\n",
            "Epoch 94/100\n",
            "8/8 [==============================] - 0s 23ms/step - loss: 0.6385 - accuracy: 0.8295 - val_loss: 1.3408 - val_accuracy: 0.6534\n",
            "Epoch 95/100\n",
            "8/8 [==============================] - 0s 23ms/step - loss: 0.6323 - accuracy: 0.8312 - val_loss: 1.3290 - val_accuracy: 0.6562\n",
            "Epoch 96/100\n",
            "8/8 [==============================] - 0s 22ms/step - loss: 0.6277 - accuracy: 0.8322 - val_loss: 1.3220 - val_accuracy: 0.6580\n",
            "Epoch 97/100\n",
            "8/8 [==============================] - 0s 22ms/step - loss: 0.6250 - accuracy: 0.8327 - val_loss: 1.3269 - val_accuracy: 0.6588\n",
            "Epoch 98/100\n",
            "8/8 [==============================] - 0s 23ms/step - loss: 0.6217 - accuracy: 0.8327 - val_loss: 1.3056 - val_accuracy: 0.6604\n",
            "Epoch 99/100\n",
            "8/8 [==============================] - 0s 24ms/step - loss: 0.6253 - accuracy: 0.8302 - val_loss: 1.3209 - val_accuracy: 0.6566\n",
            "Epoch 100/100\n",
            "8/8 [==============================] - 0s 23ms/step - loss: 0.6214 - accuracy: 0.8330 - val_loss: 1.3223 - val_accuracy: 0.6540\n"
          ],
          "name": "stdout"
        },
        {
          "output_type": "stream",
          "text": [
            "WARNING:absl:Found untraced functions such as lstm_cell_10_layer_call_fn, lstm_cell_10_layer_call_and_return_conditional_losses, lstm_cell_11_layer_call_fn, lstm_cell_11_layer_call_and_return_conditional_losses, lstm_cell_10_layer_call_fn while saving (showing 5 of 10). These functions will not be directly callable after loading.\n"
          ],
          "name": "stderr"
        },
        {
          "output_type": "stream",
          "text": [
            "INFO:tensorflow:Assets written to: s2s_mal/assets\n"
          ],
          "name": "stdout"
        },
        {
          "output_type": "stream",
          "text": [
            "INFO:tensorflow:Assets written to: s2s_mal/assets\n"
          ],
          "name": "stderr"
        }
      ]
    },
    {
      "cell_type": "code",
      "metadata": {
        "id": "DygklosLDIFZ"
      },
      "source": [
        "# Define sampling models\n",
        "# Restore the model and construct the encoder and decoder.\n",
        "model = keras.models.load_model(\"/content/s2s_mal\")\n",
        "\n",
        "encoder_inputs = model.input[0]  # input_1\n",
        "encoder_outputs, state_h_enc, state_c_enc = model.layers[2].output  # lstm_1\n",
        "encoder_states = [state_h_enc, state_c_enc]\n",
        "encoder_model = keras.Model(encoder_inputs, encoder_states)\n",
        "\n",
        "decoder_inputs = model.input[1]  # input_2\n",
        "decoder_state_input_h = keras.Input(shape=(latent_dim,), name=\"input_3\")\n",
        "decoder_state_input_c = keras.Input(shape=(latent_dim,), name=\"input_4\")\n",
        "decoder_states_inputs = [decoder_state_input_h, decoder_state_input_c]\n",
        "decoder_lstm = model.layers[3]\n",
        "decoder_outputs, state_h_dec, state_c_dec = decoder_lstm(\n",
        "    decoder_inputs, initial_state=decoder_states_inputs\n",
        ")\n",
        "decoder_states = [state_h_dec, state_c_dec]\n",
        "decoder_dense = model.layers[4]\n",
        "decoder_outputs = decoder_dense(decoder_outputs)\n",
        "decoder_model = keras.Model(\n",
        "    [decoder_inputs] + decoder_states_inputs, [decoder_outputs] + decoder_states\n",
        ")\n",
        "\n",
        "# Reverse-lookup token index to decode sequences back to\n",
        "# something readable.\n",
        "reverse_input_char_index = dict((i, char) for char, i in input_token_index.items())\n",
        "reverse_target_char_index = dict((i, char) for char, i in target_token_index.items())"
      ],
      "execution_count": 66,
      "outputs": []
    },
    {
      "cell_type": "code",
      "metadata": {
        "id": "0HczvQxmHFRH"
      },
      "source": [
        "def decode_sequence(input_seq):\n",
        "    # Encode the input as state vectors.\n",
        "    states_value = encoder_model.predict(input_seq)\n",
        "\n",
        "    # Generate empty target sequence of length 1.\n",
        "    target_seq = np.zeros((1, 1, num_decoder_tokens))\n",
        "    # Populate the first character of target sequence with the start character.\n",
        "    target_seq[0, 0, target_token_index[\"\\t\"]] = 1.0\n",
        "\n",
        "    # Sampling loop for a batch of sequences\n",
        "    # (to simplify, here we assume a batch of size 1).\n",
        "    stop_condition = False\n",
        "    decoded_sentence = \"\"\n",
        "    while not stop_condition:\n",
        "        output_tokens, h, c = decoder_model.predict([target_seq] + states_value)\n",
        "\n",
        "        # Sample a token\n",
        "        sampled_token_index = np.argmax(output_tokens[0, -1, :])\n",
        "        sampled_char = reverse_target_char_index[sampled_token_index]\n",
        "        decoded_sentence += sampled_char\n",
        "\n",
        "        # Exit condition: either hit max length\n",
        "        # or find stop character.\n",
        "        if sampled_char == \"\\n\" or len(decoded_sentence) > max_decoder_seq_length:\n",
        "            stop_condition = True\n",
        "\n",
        "        # Update the target sequence (of length 1).\n",
        "        target_seq = np.zeros((1, 1, num_decoder_tokens))\n",
        "        target_seq[0, 0, sampled_token_index] = 1.0\n",
        "\n",
        "        # Update states\n",
        "        states_value = [h, c]\n",
        "    return decoded_sentence"
      ],
      "execution_count": 67,
      "outputs": []
    },
    {
      "cell_type": "code",
      "metadata": {
        "colab": {
          "base_uri": "https://localhost:8080/"
        },
        "id": "DVOusGwSHJ1i",
        "outputId": "d4d5571b-1467-4a53-a044-5e4e1c601be0"
      },
      "source": [
        "for seq_index in [14]:\n",
        "    # Take one sequence (part of the training set)\n",
        "    # for trying out decoding.\n",
        "    input_seq = encoder_input_data[seq_index : seq_index + 1]\n",
        "    decoded_sentence = decode_sequence(input_seq)\n",
        "    print(\"-\")\n",
        "    print(\"Input sentence:\", input_texts[seq_index])\n",
        "    print(\"Decoded sentence:\", decoded_sentence)\n"
      ],
      "execution_count": 100,
      "outputs": [
        {
          "output_type": "stream",
          "text": [
            "-\n",
            "Input sentence: That's her.\n",
            "Decoded sentence: അത് അവിക്കാണ് .\n",
            "\n"
          ],
          "name": "stdout"
        }
      ]
    },
    {
      "cell_type": "code",
      "metadata": {
        "id": "LoXEu0tSHNOL"
      },
      "source": [
        ""
      ],
      "execution_count": null,
      "outputs": []
    }
  ]
}