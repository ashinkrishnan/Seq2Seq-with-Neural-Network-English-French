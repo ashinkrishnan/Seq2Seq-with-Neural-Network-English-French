{
  "nbformat": 4,
  "nbformat_minor": 0,
  "metadata": {
    "colab": {
      "name": "Seq2Seq with Neural Network.ipynb",
      "provenance": [],
      "collapsed_sections": [],
      "mount_file_id": "1fl1gQ_YFoKoQk4taMxo6gBry1Vza6adm",
      "authorship_tag": "ABX9TyP7dab872S9Im4LWNh/Wglf",
      "include_colab_link": true
    },
    "kernelspec": {
      "name": "python3",
      "display_name": "Python 3"
    },
    "language_info": {
      "name": "python"
    },
    "accelerator": "GPU"
  },
  "cells": [
    {
      "cell_type": "markdown",
      "metadata": {
        "id": "view-in-github",
        "colab_type": "text"
      },
      "source": [
        "<a href=\"https://colab.research.google.com/github/ashinkrishnan/Seq2Seq-with-Neural-Network-English-French/blob/main/Seq2Seq_with_Neural_Network.ipynb\" target=\"_parent\"><img src=\"https://colab.research.google.com/assets/colab-badge.svg\" alt=\"Open In Colab\"/></a>"
      ]
    },
    {
      "cell_type": "code",
      "metadata": {
        "id": "B9JHQcFv7r8J"
      },
      "source": [
        "import numpy as np\n",
        "import tensorflow as tf\n",
        "from tensorflow import keras\n",
        "\n",
        "\n",
        "batch_size = 64   #batch size for training\n",
        "epochs     = 100 \n",
        "latent_dim = 256  #Latent dimensionality of the encoding space\n",
        "num_samples=10000 #num of samples to train on\n",
        "\n",
        "data_path ='/content/drive/MyDrive/seq2seq_fra/fra.txt'"
      ],
      "execution_count": 5,
      "outputs": []
    },
    {
      "cell_type": "code",
      "metadata": {
        "id": "5VtM9JVe-5L9"
      },
      "source": [
        "# Vectorize the data.\n",
        "input_texts = []\n",
        "target_texts = []\n",
        "input_characters = set()\n",
        "target_characters = set()\n",
        "with open(data_path, \"r\", encoding=\"utf-8\") as f:\n",
        "    lines = f.read().split(\"\\n\")\n",
        "for line in lines[: min(num_samples, len(lines) - 1)]:\n",
        "    input_text, target_text, _ = line.split(\"\\t\")\n",
        "    # We use \"tab\" as the \"start sequence\" character\n",
        "    # for the targets, and \"\\n\" as \"end sequence\" character.\n",
        "    target_text = \"\\t\" + target_text + \"\\n\"\n",
        "    input_texts.append(input_text)\n",
        "    target_texts.append(target_text)\n",
        "    for char in input_text:\n",
        "        if char not in input_characters:\n",
        "            input_characters.add(char)\n",
        "    for char in target_text:\n",
        "        if char not in target_characters:\n",
        "            target_characters.add(char)"
      ],
      "execution_count": 6,
      "outputs": []
    },
    {
      "cell_type": "code",
      "metadata": {
        "id": "llTRqVgS-9eb"
      },
      "source": [
        "input_characters = sorted(list(input_characters))\n",
        "target_characters = sorted(list(target_characters))\n",
        "num_encoder_tokens = len(input_characters)\n",
        "num_decoder_tokens = len(target_characters)\n",
        "max_encoder_seq_length = max([len(txt) for txt in input_texts])\n",
        "max_decoder_seq_length = max([len(txt) for txt in target_texts])"
      ],
      "execution_count": 7,
      "outputs": []
    },
    {
      "cell_type": "code",
      "metadata": {
        "id": "YG7HE3SV_ALp",
        "colab": {
          "base_uri": "https://localhost:8080/"
        },
        "outputId": "8a25fbe9-b50f-436d-da41-b523739616b6"
      },
      "source": [
        "print(\"Number of samples:\", len(input_texts))\n",
        "print(\"Number of unique input tokens:\", num_encoder_tokens)\n",
        "print(\"Number of unique output tokens:\", num_decoder_tokens)\n",
        "print(\"Max sequence length for inputs:\", max_encoder_seq_length)\n",
        "print(\"Max sequence length for outputs:\", max_decoder_seq_length)"
      ],
      "execution_count": 8,
      "outputs": [
        {
          "output_type": "stream",
          "text": [
            "Number of samples: 10000\n",
            "Number of unique input tokens: 71\n",
            "Number of unique output tokens: 92\n",
            "Max sequence length for inputs: 15\n",
            "Max sequence length for outputs: 59\n"
          ],
          "name": "stdout"
        }
      ]
    },
    {
      "cell_type": "code",
      "metadata": {
        "id": "rLtK2euN_BvC"
      },
      "source": [
        "input_token_index = dict([(char, i) for i, char in enumerate(input_characters)])\n",
        "target_token_index = dict([(char, i) for i, char in enumerate(target_characters)])"
      ],
      "execution_count": 9,
      "outputs": []
    },
    {
      "cell_type": "code",
      "metadata": {
        "id": "eQw3unSA_Djj"
      },
      "source": [
        "encoder_input_data = np.zeros(\n",
        "    (len(input_texts), max_encoder_seq_length, num_encoder_tokens), dtype=\"float32\"\n",
        ")\n",
        "decoder_input_data = np.zeros(\n",
        "    (len(input_texts), max_decoder_seq_length, num_decoder_tokens), dtype=\"float32\"\n",
        ")\n",
        "decoder_target_data = np.zeros(\n",
        "    (len(input_texts), max_decoder_seq_length, num_decoder_tokens), dtype=\"float32\"\n",
        ")"
      ],
      "execution_count": 10,
      "outputs": []
    },
    {
      "cell_type": "code",
      "metadata": {
        "id": "3aJF941j_F0D"
      },
      "source": [
        "for i, (input_text, target_text) in enumerate(zip(input_texts, target_texts)):\n",
        "    for t, char in enumerate(input_text):\n",
        "        encoder_input_data[i, t, input_token_index[char]] = 1.0\n",
        "    encoder_input_data[i, t + 1 :, input_token_index[\" \"]] = 1.0\n",
        "    for t, char in enumerate(target_text):\n",
        "        # decoder_target_data is ahead of decoder_input_data by one timestep\n",
        "        decoder_input_data[i, t, target_token_index[char]] = 1.0\n",
        "        if t > 0:\n",
        "            # decoder_target_data will be ahead by one timestep\n",
        "            # and will not include the start character.\n",
        "            decoder_target_data[i, t - 1, target_token_index[char]] = 1.0\n",
        "    decoder_input_data[i, t + 1 :, target_token_index[\" \"]] = 1.0\n",
        "    decoder_target_data[i, t:, target_token_index[\" \"]] = 1.0"
      ],
      "execution_count": 11,
      "outputs": []
    },
    {
      "cell_type": "code",
      "metadata": {
        "id": "3J3fGM5b_HI6"
      },
      "source": [
        "#Building the model\n",
        "# Define an input sequence and process it.\n",
        "encoder_inputs = keras.Input(shape=(None, num_encoder_tokens))\n",
        "encoder = keras.layers.LSTM(latent_dim, return_state=True)\n",
        "encoder_outputs, state_h, state_c = encoder(encoder_inputs)\n",
        "\n",
        "# We discard `encoder_outputs` and only keep the states.\n",
        "encoder_states = [state_h, state_c]\n",
        "\n",
        "# Set up the decoder, using `encoder_states` as initial state.\n",
        "decoder_inputs = keras.Input(shape=(None, num_decoder_tokens))\n",
        "\n",
        "# We set up our decoder to return full output sequences,\n",
        "# and to return internal states as well. We don't use the\n",
        "# return states in the training model, but we will use them in inference.\n",
        "decoder_lstm = keras.layers.LSTM(latent_dim, return_sequences=True, return_state=True)\n",
        "decoder_outputs, _, _ = decoder_lstm(decoder_inputs, initial_state=encoder_states)\n",
        "decoder_dense = keras.layers.Dense(num_decoder_tokens, activation=\"softmax\")\n",
        "decoder_outputs = decoder_dense(decoder_outputs)\n",
        "\n",
        "# Define the model that will turn\n",
        "# `encoder_input_data` & `decoder_input_data` into `decoder_target_data`\n",
        "model = keras.Model([encoder_inputs, decoder_inputs], decoder_outputs)\n"
      ],
      "execution_count": 12,
      "outputs": []
    },
    {
      "cell_type": "code",
      "metadata": {
        "id": "3NumiVIx_Iqb",
        "colab": {
          "base_uri": "https://localhost:8080/"
        },
        "outputId": "77ffe600-5a36-490d-c2ba-e06a0ecf4c8e"
      },
      "source": [
        "#Training the model\n",
        "model.compile(\n",
        "    optimizer=\"rmsprop\", loss=\"categorical_crossentropy\", metrics=[\"accuracy\"]\n",
        ")\n",
        "model.fit(\n",
        "    [encoder_input_data, decoder_input_data],\n",
        "    decoder_target_data,\n",
        "    batch_size=batch_size,\n",
        "    epochs=epochs,\n",
        "    validation_split=0.2,\n",
        ")\n",
        "# Save model\n",
        "model.save(\"s2s\")\n"
      ],
      "execution_count": 13,
      "outputs": [
        {
          "output_type": "stream",
          "text": [
            "Epoch 1/100\n",
            "125/125 [==============================] - 10s 18ms/step - loss: 1.1448 - accuracy: 0.7356 - val_loss: 1.0179 - val_accuracy: 0.7123\n",
            "Epoch 2/100\n",
            "125/125 [==============================] - 1s 11ms/step - loss: 0.8236 - accuracy: 0.7774 - val_loss: 0.8310 - val_accuracy: 0.7739\n",
            "Epoch 3/100\n",
            "125/125 [==============================] - 1s 11ms/step - loss: 0.6658 - accuracy: 0.8149 - val_loss: 0.6941 - val_accuracy: 0.7998\n",
            "Epoch 4/100\n",
            "125/125 [==============================] - 1s 11ms/step - loss: 0.5752 - accuracy: 0.8334 - val_loss: 0.6364 - val_accuracy: 0.8168\n",
            "Epoch 5/100\n",
            "125/125 [==============================] - 1s 11ms/step - loss: 0.5260 - accuracy: 0.8462 - val_loss: 0.5951 - val_accuracy: 0.8270\n",
            "Epoch 6/100\n",
            "125/125 [==============================] - 1s 11ms/step - loss: 0.4908 - accuracy: 0.8558 - val_loss: 0.5668 - val_accuracy: 0.8347\n",
            "Epoch 7/100\n",
            "125/125 [==============================] - 1s 11ms/step - loss: 0.4629 - accuracy: 0.8634 - val_loss: 0.5381 - val_accuracy: 0.8407\n",
            "Epoch 8/100\n",
            "125/125 [==============================] - 1s 11ms/step - loss: 0.4397 - accuracy: 0.8692 - val_loss: 0.5244 - val_accuracy: 0.8442\n",
            "Epoch 9/100\n",
            "125/125 [==============================] - 1s 11ms/step - loss: 0.4192 - accuracy: 0.8747 - val_loss: 0.5082 - val_accuracy: 0.8510\n",
            "Epoch 10/100\n",
            "125/125 [==============================] - 1s 11ms/step - loss: 0.4017 - accuracy: 0.8797 - val_loss: 0.4943 - val_accuracy: 0.8526\n",
            "Epoch 11/100\n",
            "125/125 [==============================] - 1s 11ms/step - loss: 0.3847 - accuracy: 0.8844 - val_loss: 0.4825 - val_accuracy: 0.8573\n",
            "Epoch 12/100\n",
            "125/125 [==============================] - 1s 11ms/step - loss: 0.3695 - accuracy: 0.8886 - val_loss: 0.4724 - val_accuracy: 0.8607\n",
            "Epoch 13/100\n",
            "125/125 [==============================] - 1s 11ms/step - loss: 0.3550 - accuracy: 0.8931 - val_loss: 0.4738 - val_accuracy: 0.8602\n",
            "Epoch 14/100\n",
            "125/125 [==============================] - 1s 11ms/step - loss: 0.3411 - accuracy: 0.8971 - val_loss: 0.4647 - val_accuracy: 0.8643\n",
            "Epoch 15/100\n",
            "125/125 [==============================] - 1s 11ms/step - loss: 0.3286 - accuracy: 0.9006 - val_loss: 0.4553 - val_accuracy: 0.8671\n",
            "Epoch 16/100\n",
            "125/125 [==============================] - 1s 11ms/step - loss: 0.3163 - accuracy: 0.9046 - val_loss: 0.4531 - val_accuracy: 0.8681\n",
            "Epoch 17/100\n",
            "125/125 [==============================] - 1s 11ms/step - loss: 0.3043 - accuracy: 0.9082 - val_loss: 0.4501 - val_accuracy: 0.8699\n",
            "Epoch 18/100\n",
            "125/125 [==============================] - 2s 12ms/step - loss: 0.2936 - accuracy: 0.9112 - val_loss: 0.4457 - val_accuracy: 0.8710\n",
            "Epoch 19/100\n",
            "125/125 [==============================] - 1s 11ms/step - loss: 0.2833 - accuracy: 0.9142 - val_loss: 0.4500 - val_accuracy: 0.8706\n",
            "Epoch 20/100\n",
            "125/125 [==============================] - 1s 11ms/step - loss: 0.2731 - accuracy: 0.9173 - val_loss: 0.4456 - val_accuracy: 0.8724\n",
            "Epoch 21/100\n",
            "125/125 [==============================] - 1s 11ms/step - loss: 0.2635 - accuracy: 0.9201 - val_loss: 0.4446 - val_accuracy: 0.8728\n",
            "Epoch 22/100\n",
            "125/125 [==============================] - 1s 11ms/step - loss: 0.2543 - accuracy: 0.9229 - val_loss: 0.4481 - val_accuracy: 0.8734\n",
            "Epoch 23/100\n",
            "125/125 [==============================] - 1s 11ms/step - loss: 0.2462 - accuracy: 0.9254 - val_loss: 0.4510 - val_accuracy: 0.8732\n",
            "Epoch 24/100\n",
            "125/125 [==============================] - 1s 11ms/step - loss: 0.2375 - accuracy: 0.9279 - val_loss: 0.4457 - val_accuracy: 0.8752\n",
            "Epoch 25/100\n",
            "125/125 [==============================] - 1s 11ms/step - loss: 0.2294 - accuracy: 0.9305 - val_loss: 0.4491 - val_accuracy: 0.8750\n",
            "Epoch 26/100\n",
            "125/125 [==============================] - 1s 11ms/step - loss: 0.2217 - accuracy: 0.9325 - val_loss: 0.4534 - val_accuracy: 0.8741\n",
            "Epoch 27/100\n",
            "125/125 [==============================] - 1s 11ms/step - loss: 0.2143 - accuracy: 0.9348 - val_loss: 0.4594 - val_accuracy: 0.8744\n",
            "Epoch 28/100\n",
            "125/125 [==============================] - 1s 11ms/step - loss: 0.2073 - accuracy: 0.9371 - val_loss: 0.4572 - val_accuracy: 0.8758\n",
            "Epoch 29/100\n",
            "125/125 [==============================] - 1s 11ms/step - loss: 0.2007 - accuracy: 0.9392 - val_loss: 0.4651 - val_accuracy: 0.8743\n",
            "Epoch 30/100\n",
            "125/125 [==============================] - 1s 11ms/step - loss: 0.1945 - accuracy: 0.9406 - val_loss: 0.4649 - val_accuracy: 0.8748\n",
            "Epoch 31/100\n",
            "125/125 [==============================] - 1s 11ms/step - loss: 0.1878 - accuracy: 0.9428 - val_loss: 0.4658 - val_accuracy: 0.8762\n",
            "Epoch 32/100\n",
            "125/125 [==============================] - 1s 11ms/step - loss: 0.1822 - accuracy: 0.9444 - val_loss: 0.4744 - val_accuracy: 0.8748\n",
            "Epoch 33/100\n",
            "125/125 [==============================] - 1s 11ms/step - loss: 0.1764 - accuracy: 0.9461 - val_loss: 0.4763 - val_accuracy: 0.8759\n",
            "Epoch 34/100\n",
            "125/125 [==============================] - 1s 11ms/step - loss: 0.1709 - accuracy: 0.9476 - val_loss: 0.4823 - val_accuracy: 0.8742\n",
            "Epoch 35/100\n",
            "125/125 [==============================] - 1s 11ms/step - loss: 0.1657 - accuracy: 0.9493 - val_loss: 0.4868 - val_accuracy: 0.8748\n",
            "Epoch 36/100\n",
            "125/125 [==============================] - 1s 11ms/step - loss: 0.1607 - accuracy: 0.9506 - val_loss: 0.4890 - val_accuracy: 0.8752\n",
            "Epoch 37/100\n",
            "125/125 [==============================] - 1s 12ms/step - loss: 0.1557 - accuracy: 0.9522 - val_loss: 0.4970 - val_accuracy: 0.8756\n",
            "Epoch 38/100\n",
            "125/125 [==============================] - 1s 12ms/step - loss: 0.1514 - accuracy: 0.9534 - val_loss: 0.5002 - val_accuracy: 0.8756\n",
            "Epoch 39/100\n",
            "125/125 [==============================] - 1s 11ms/step - loss: 0.1467 - accuracy: 0.9548 - val_loss: 0.5062 - val_accuracy: 0.8747\n",
            "Epoch 40/100\n",
            "125/125 [==============================] - 1s 11ms/step - loss: 0.1425 - accuracy: 0.9561 - val_loss: 0.5084 - val_accuracy: 0.8753\n",
            "Epoch 41/100\n",
            "125/125 [==============================] - 1s 12ms/step - loss: 0.1386 - accuracy: 0.9573 - val_loss: 0.5145 - val_accuracy: 0.8752\n",
            "Epoch 42/100\n",
            "125/125 [==============================] - 1s 12ms/step - loss: 0.1347 - accuracy: 0.9585 - val_loss: 0.5239 - val_accuracy: 0.8741\n",
            "Epoch 43/100\n",
            "125/125 [==============================] - 1s 11ms/step - loss: 0.1309 - accuracy: 0.9595 - val_loss: 0.5244 - val_accuracy: 0.8751\n",
            "Epoch 44/100\n",
            "125/125 [==============================] - 1s 11ms/step - loss: 0.1274 - accuracy: 0.9606 - val_loss: 0.5317 - val_accuracy: 0.8743\n",
            "Epoch 45/100\n",
            "125/125 [==============================] - 1s 12ms/step - loss: 0.1233 - accuracy: 0.9617 - val_loss: 0.5382 - val_accuracy: 0.8737\n",
            "Epoch 46/100\n",
            "125/125 [==============================] - 1s 11ms/step - loss: 0.1204 - accuracy: 0.9625 - val_loss: 0.5398 - val_accuracy: 0.8733\n",
            "Epoch 47/100\n",
            "125/125 [==============================] - 1s 11ms/step - loss: 0.1176 - accuracy: 0.9635 - val_loss: 0.5495 - val_accuracy: 0.8738\n",
            "Epoch 48/100\n",
            "125/125 [==============================] - 1s 12ms/step - loss: 0.1142 - accuracy: 0.9643 - val_loss: 0.5528 - val_accuracy: 0.8738\n",
            "Epoch 49/100\n",
            "125/125 [==============================] - 1s 11ms/step - loss: 0.1109 - accuracy: 0.9656 - val_loss: 0.5577 - val_accuracy: 0.8734\n",
            "Epoch 50/100\n",
            "125/125 [==============================] - 1s 12ms/step - loss: 0.1087 - accuracy: 0.9661 - val_loss: 0.5597 - val_accuracy: 0.8737\n",
            "Epoch 51/100\n",
            "125/125 [==============================] - 1s 11ms/step - loss: 0.1062 - accuracy: 0.9667 - val_loss: 0.5714 - val_accuracy: 0.8734\n",
            "Epoch 52/100\n",
            "125/125 [==============================] - 1s 11ms/step - loss: 0.1031 - accuracy: 0.9676 - val_loss: 0.5761 - val_accuracy: 0.8724\n",
            "Epoch 53/100\n",
            "125/125 [==============================] - 1s 12ms/step - loss: 0.1005 - accuracy: 0.9685 - val_loss: 0.5773 - val_accuracy: 0.8733\n",
            "Epoch 54/100\n",
            "125/125 [==============================] - 1s 11ms/step - loss: 0.0981 - accuracy: 0.9693 - val_loss: 0.5877 - val_accuracy: 0.8715\n",
            "Epoch 55/100\n",
            "125/125 [==============================] - 1s 11ms/step - loss: 0.0960 - accuracy: 0.9698 - val_loss: 0.5914 - val_accuracy: 0.8724\n",
            "Epoch 56/100\n",
            "125/125 [==============================] - 1s 11ms/step - loss: 0.0933 - accuracy: 0.9705 - val_loss: 0.5978 - val_accuracy: 0.8713\n",
            "Epoch 57/100\n",
            "125/125 [==============================] - 1s 12ms/step - loss: 0.0914 - accuracy: 0.9710 - val_loss: 0.5946 - val_accuracy: 0.8718\n",
            "Epoch 58/100\n",
            "125/125 [==============================] - 1s 12ms/step - loss: 0.0893 - accuracy: 0.9715 - val_loss: 0.6063 - val_accuracy: 0.8712\n",
            "Epoch 59/100\n",
            "125/125 [==============================] - 1s 12ms/step - loss: 0.0871 - accuracy: 0.9721 - val_loss: 0.6075 - val_accuracy: 0.8723\n",
            "Epoch 60/100\n",
            "125/125 [==============================] - 1s 12ms/step - loss: 0.0854 - accuracy: 0.9727 - val_loss: 0.6132 - val_accuracy: 0.8713\n",
            "Epoch 61/100\n",
            "125/125 [==============================] - 1s 12ms/step - loss: 0.0835 - accuracy: 0.9732 - val_loss: 0.6160 - val_accuracy: 0.8726\n",
            "Epoch 62/100\n",
            "125/125 [==============================] - 1s 12ms/step - loss: 0.0813 - accuracy: 0.9739 - val_loss: 0.6244 - val_accuracy: 0.8715\n",
            "Epoch 63/100\n",
            "125/125 [==============================] - 1s 12ms/step - loss: 0.0801 - accuracy: 0.9741 - val_loss: 0.6372 - val_accuracy: 0.8702\n",
            "Epoch 64/100\n",
            "125/125 [==============================] - 1s 12ms/step - loss: 0.0781 - accuracy: 0.9748 - val_loss: 0.6321 - val_accuracy: 0.8721\n",
            "Epoch 65/100\n",
            "125/125 [==============================] - 1s 12ms/step - loss: 0.0762 - accuracy: 0.9754 - val_loss: 0.6451 - val_accuracy: 0.8713\n",
            "Epoch 66/100\n",
            "125/125 [==============================] - 1s 12ms/step - loss: 0.0749 - accuracy: 0.9758 - val_loss: 0.6430 - val_accuracy: 0.8716\n",
            "Epoch 67/100\n",
            "125/125 [==============================] - 1s 12ms/step - loss: 0.0732 - accuracy: 0.9764 - val_loss: 0.6451 - val_accuracy: 0.8711\n",
            "Epoch 68/100\n",
            "125/125 [==============================] - 1s 11ms/step - loss: 0.0717 - accuracy: 0.9766 - val_loss: 0.6509 - val_accuracy: 0.8711\n",
            "Epoch 69/100\n",
            "125/125 [==============================] - 1s 12ms/step - loss: 0.0703 - accuracy: 0.9772 - val_loss: 0.6569 - val_accuracy: 0.8707\n",
            "Epoch 70/100\n",
            "125/125 [==============================] - 1s 12ms/step - loss: 0.0690 - accuracy: 0.9774 - val_loss: 0.6648 - val_accuracy: 0.8711\n",
            "Epoch 71/100\n",
            "125/125 [==============================] - 1s 12ms/step - loss: 0.0676 - accuracy: 0.9780 - val_loss: 0.6654 - val_accuracy: 0.8709\n",
            "Epoch 72/100\n",
            "125/125 [==============================] - 1s 12ms/step - loss: 0.0664 - accuracy: 0.9782 - val_loss: 0.6683 - val_accuracy: 0.8698\n",
            "Epoch 73/100\n",
            "125/125 [==============================] - 1s 12ms/step - loss: 0.0651 - accuracy: 0.9784 - val_loss: 0.6698 - val_accuracy: 0.8708\n",
            "Epoch 74/100\n",
            "125/125 [==============================] - 1s 12ms/step - loss: 0.0640 - accuracy: 0.9786 - val_loss: 0.6824 - val_accuracy: 0.8706\n",
            "Epoch 75/100\n",
            "125/125 [==============================] - 1s 12ms/step - loss: 0.0629 - accuracy: 0.9792 - val_loss: 0.6855 - val_accuracy: 0.8702\n",
            "Epoch 76/100\n",
            "125/125 [==============================] - 1s 12ms/step - loss: 0.0617 - accuracy: 0.9793 - val_loss: 0.6921 - val_accuracy: 0.8702\n",
            "Epoch 77/100\n",
            "125/125 [==============================] - 1s 12ms/step - loss: 0.0604 - accuracy: 0.9798 - val_loss: 0.6934 - val_accuracy: 0.8693\n",
            "Epoch 78/100\n",
            "125/125 [==============================] - 1s 12ms/step - loss: 0.0597 - accuracy: 0.9799 - val_loss: 0.6943 - val_accuracy: 0.8699\n",
            "Epoch 79/100\n",
            "125/125 [==============================] - 1s 12ms/step - loss: 0.0586 - accuracy: 0.9802 - val_loss: 0.6995 - val_accuracy: 0.8697\n",
            "Epoch 80/100\n",
            "125/125 [==============================] - 1s 12ms/step - loss: 0.0577 - accuracy: 0.9804 - val_loss: 0.7077 - val_accuracy: 0.8696\n",
            "Epoch 81/100\n",
            "125/125 [==============================] - 1s 11ms/step - loss: 0.0566 - accuracy: 0.9808 - val_loss: 0.7079 - val_accuracy: 0.8703\n",
            "Epoch 82/100\n",
            "125/125 [==============================] - 1s 12ms/step - loss: 0.0555 - accuracy: 0.9813 - val_loss: 0.7177 - val_accuracy: 0.8688\n",
            "Epoch 83/100\n",
            "125/125 [==============================] - 1s 12ms/step - loss: 0.0547 - accuracy: 0.9814 - val_loss: 0.7182 - val_accuracy: 0.8695\n",
            "Epoch 84/100\n",
            "125/125 [==============================] - 1s 12ms/step - loss: 0.0542 - accuracy: 0.9813 - val_loss: 0.7244 - val_accuracy: 0.8685\n",
            "Epoch 85/100\n",
            "125/125 [==============================] - 1s 12ms/step - loss: 0.0532 - accuracy: 0.9816 - val_loss: 0.7220 - val_accuracy: 0.8694\n",
            "Epoch 86/100\n",
            "125/125 [==============================] - 1s 12ms/step - loss: 0.0523 - accuracy: 0.9821 - val_loss: 0.7262 - val_accuracy: 0.8695\n",
            "Epoch 87/100\n",
            "125/125 [==============================] - 1s 12ms/step - loss: 0.0513 - accuracy: 0.9824 - val_loss: 0.7262 - val_accuracy: 0.8694\n",
            "Epoch 88/100\n",
            "125/125 [==============================] - 1s 11ms/step - loss: 0.0506 - accuracy: 0.9826 - val_loss: 0.7306 - val_accuracy: 0.8699\n",
            "Epoch 89/100\n",
            "125/125 [==============================] - 1s 12ms/step - loss: 0.0497 - accuracy: 0.9827 - val_loss: 0.7463 - val_accuracy: 0.8683\n",
            "Epoch 90/100\n",
            "125/125 [==============================] - 1s 12ms/step - loss: 0.0496 - accuracy: 0.9828 - val_loss: 0.7392 - val_accuracy: 0.8700\n",
            "Epoch 91/100\n",
            "125/125 [==============================] - 1s 12ms/step - loss: 0.0487 - accuracy: 0.9830 - val_loss: 0.7441 - val_accuracy: 0.8691\n",
            "Epoch 92/100\n",
            "125/125 [==============================] - 1s 12ms/step - loss: 0.0482 - accuracy: 0.9831 - val_loss: 0.7434 - val_accuracy: 0.8690\n",
            "Epoch 93/100\n",
            "125/125 [==============================] - 1s 12ms/step - loss: 0.0475 - accuracy: 0.9834 - val_loss: 0.7483 - val_accuracy: 0.8695\n",
            "Epoch 94/100\n",
            "125/125 [==============================] - 1s 12ms/step - loss: 0.0467 - accuracy: 0.9834 - val_loss: 0.7545 - val_accuracy: 0.8689\n",
            "Epoch 95/100\n",
            "125/125 [==============================] - 1s 12ms/step - loss: 0.0464 - accuracy: 0.9838 - val_loss: 0.7521 - val_accuracy: 0.8701\n",
            "Epoch 96/100\n",
            "125/125 [==============================] - 1s 12ms/step - loss: 0.0455 - accuracy: 0.9839 - val_loss: 0.7633 - val_accuracy: 0.8684\n",
            "Epoch 97/100\n",
            "125/125 [==============================] - 1s 12ms/step - loss: 0.0450 - accuracy: 0.9840 - val_loss: 0.7615 - val_accuracy: 0.8690\n",
            "Epoch 98/100\n",
            "125/125 [==============================] - 1s 12ms/step - loss: 0.0445 - accuracy: 0.9842 - val_loss: 0.7610 - val_accuracy: 0.8700\n",
            "Epoch 99/100\n",
            "125/125 [==============================] - 1s 12ms/step - loss: 0.0440 - accuracy: 0.9843 - val_loss: 0.7677 - val_accuracy: 0.8700\n",
            "Epoch 100/100\n",
            "125/125 [==============================] - 1s 12ms/step - loss: 0.0436 - accuracy: 0.9844 - val_loss: 0.7702 - val_accuracy: 0.8687\n"
          ],
          "name": "stdout"
        },
        {
          "output_type": "stream",
          "text": [
            "WARNING:absl:Found untraced functions such as lstm_cell_layer_call_and_return_conditional_losses, lstm_cell_layer_call_fn, lstm_cell_1_layer_call_and_return_conditional_losses, lstm_cell_1_layer_call_fn, lstm_cell_layer_call_fn while saving (showing 5 of 10). These functions will not be directly callable after loading.\n"
          ],
          "name": "stderr"
        },
        {
          "output_type": "stream",
          "text": [
            "INFO:tensorflow:Assets written to: s2s/assets\n"
          ],
          "name": "stdout"
        },
        {
          "output_type": "stream",
          "text": [
            "INFO:tensorflow:Assets written to: s2s/assets\n"
          ],
          "name": "stderr"
        }
      ]
    },
    {
      "cell_type": "code",
      "metadata": {
        "id": "0YwP9DVN_LOr"
      },
      "source": [
        "# Define sampling models\n",
        "# Restore the model and construct the encoder and decoder.\n",
        "model = keras.models.load_model(\"/content/s2s\")\n",
        "\n",
        "encoder_inputs = model.input[0]  # input_1\n",
        "encoder_outputs, state_h_enc, state_c_enc = model.layers[2].output  # lstm_1\n",
        "encoder_states = [state_h_enc, state_c_enc]\n",
        "encoder_model = keras.Model(encoder_inputs, encoder_states)\n",
        "\n",
        "decoder_inputs = model.input[1]  # input_2\n",
        "decoder_state_input_h = keras.Input(shape=(latent_dim,), name=\"input_3\")\n",
        "decoder_state_input_c = keras.Input(shape=(latent_dim,), name=\"input_4\")\n",
        "decoder_states_inputs = [decoder_state_input_h, decoder_state_input_c]\n",
        "decoder_lstm = model.layers[3]\n",
        "decoder_outputs, state_h_dec, state_c_dec = decoder_lstm(\n",
        "    decoder_inputs, initial_state=decoder_states_inputs\n",
        ")\n",
        "decoder_states = [state_h_dec, state_c_dec]\n",
        "decoder_dense = model.layers[4]\n",
        "decoder_outputs = decoder_dense(decoder_outputs)\n",
        "decoder_model = keras.Model(\n",
        "    [decoder_inputs] + decoder_states_inputs, [decoder_outputs] + decoder_states\n",
        ")\n",
        "\n",
        "# Reverse-lookup token index to decode sequences back to\n",
        "# something readable.\n",
        "reverse_input_char_index = dict((i, char) for char, i in input_token_index.items())\n",
        "reverse_target_char_index = dict((i, char) for char, i in target_token_index.items())\n",
        "\n"
      ],
      "execution_count": 16,
      "outputs": []
    },
    {
      "cell_type": "code",
      "metadata": {
        "id": "vB0_kt5W_NEL"
      },
      "source": [
        "def decode_sequence(input_seq):\n",
        "    # Encode the input as state vectors.\n",
        "    states_value = encoder_model.predict(input_seq)\n",
        "\n",
        "    # Generate empty target sequence of length 1.\n",
        "    target_seq = np.zeros((1, 1, num_decoder_tokens))\n",
        "    # Populate the first character of target sequence with the start character.\n",
        "    target_seq[0, 0, target_token_index[\"\\t\"]] = 1.0\n",
        "\n",
        "    # Sampling loop for a batch of sequences\n",
        "    # (to simplify, here we assume a batch of size 1).\n",
        "    stop_condition = False\n",
        "    decoded_sentence = \"\"\n",
        "    while not stop_condition:\n",
        "        output_tokens, h, c = decoder_model.predict([target_seq] + states_value)\n",
        "\n",
        "        # Sample a token\n",
        "        sampled_token_index = np.argmax(output_tokens[0, -1, :])\n",
        "        sampled_char = reverse_target_char_index[sampled_token_index]\n",
        "        decoded_sentence += sampled_char\n",
        "\n",
        "        # Exit condition: either hit max length\n",
        "        # or find stop character.\n",
        "        if sampled_char == \"\\n\" or len(decoded_sentence) > max_decoder_seq_length:\n",
        "            stop_condition = True\n",
        "\n",
        "        # Update the target sequence (of length 1).\n",
        "        target_seq = np.zeros((1, 1, num_decoder_tokens))\n",
        "        target_seq[0, 0, sampled_token_index] = 1.0\n",
        "\n",
        "        # Update states\n",
        "        states_value = [h, c]\n",
        "    return decoded_sentence"
      ],
      "execution_count": 17,
      "outputs": []
    },
    {
      "cell_type": "code",
      "metadata": {
        "id": "S3a6XeaJ_PYa",
        "colab": {
          "base_uri": "https://localhost:8080/"
        },
        "outputId": "4649724b-56a4-40f3-c9e6-b937bab7bc1c"
      },
      "source": [
        "for seq_index in range(5):\n",
        "    # Take one sequence (part of the training set)\n",
        "    # for trying out decoding.\n",
        "    input_seq = encoder_input_data[seq_index : seq_index + 1]\n",
        "    decoded_sentence = decode_sequence(input_seq)\n",
        "    print(\"-\")\n",
        "    print(\"Input sentence:\", input_texts[seq_index])\n",
        "    print(\"Decoded sentence:\", decoded_sentence)\n"
      ],
      "execution_count": 19,
      "outputs": [
        {
          "output_type": "stream",
          "text": [
            "-\n",
            "Input sentence: Go.\n",
            "Decoded sentence: Marche.\n",
            "\n",
            "-\n",
            "Input sentence: Go.\n",
            "Decoded sentence: Marche.\n",
            "\n",
            "-\n",
            "Input sentence: Go.\n",
            "Decoded sentence: Marche.\n",
            "\n",
            "-\n",
            "Input sentence: Hi.\n",
            "Decoded sentence: Salut.\n",
            "\n",
            "-\n",
            "Input sentence: Hi.\n",
            "Decoded sentence: Salut.\n",
            "\n"
          ],
          "name": "stdout"
        }
      ]
    },
    {
      "cell_type": "code",
      "metadata": {
        "id": "x5-TkKaE_RMs"
      },
      "source": [
        ""
      ],
      "execution_count": 10,
      "outputs": []
    },
    {
      "cell_type": "code",
      "metadata": {
        "id": "KFNd54CElVkc"
      },
      "source": [
        ""
      ],
      "execution_count": 10,
      "outputs": []
    },
    {
      "cell_type": "code",
      "metadata": {
        "id": "foVoIewF515I"
      },
      "source": [
        ""
      ],
      "execution_count": 10,
      "outputs": []
    },
    {
      "cell_type": "code",
      "metadata": {
        "id": "BNEg3dUXksh1"
      },
      "source": [
        ""
      ],
      "execution_count": null,
      "outputs": []
    },
    {
      "cell_type": "code",
      "metadata": {
        "id": "ZhdalmQk_oIz"
      },
      "source": [
        "\n",
        "\n"
      ],
      "execution_count": null,
      "outputs": []
    },
    {
      "cell_type": "code",
      "metadata": {
        "id": "WPloR6vyNdtN"
      },
      "source": [
        "\n"
      ],
      "execution_count": null,
      "outputs": []
    },
    {
      "cell_type": "code",
      "metadata": {
        "id": "eIIc0vN7EYi8"
      },
      "source": [
        ""
      ],
      "execution_count": 10,
      "outputs": []
    },
    {
      "cell_type": "code",
      "metadata": {
        "id": "csgVnY4WKYDW"
      },
      "source": [
        ""
      ],
      "execution_count": null,
      "outputs": []
    }
  ]
}